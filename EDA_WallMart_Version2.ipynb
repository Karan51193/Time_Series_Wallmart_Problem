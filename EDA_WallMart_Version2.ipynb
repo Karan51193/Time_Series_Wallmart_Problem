{
  "metadata": {
    "kernelspec": {
      "language": "python",
      "display_name": "Python 3",
      "name": "python3"
    },
    "language_info": {
      "pygments_lexer": "ipython3",
      "nbconvert_exporter": "python",
      "version": "3.6.4",
      "file_extension": ".py",
      "codemirror_mode": {
        "name": "ipython",
        "version": 3
      },
      "name": "python",
      "mimetype": "text/x-python"
    },
    "colab": {
      "name": "EDA_WallMart_Version2.ipynb",
      "provenance": [],
      "include_colab_link": true
    }
  },
  "nbformat_minor": 0,
  "nbformat": 4,
  "cells": [
    {
      "cell_type": "markdown",
      "metadata": {
        "id": "view-in-github",
        "colab_type": "text"
      },
      "source": [
        "<a href=\"https://colab.research.google.com/github/Karan51193/Time_Series_Wallmart_Problem/blob/main/EDA_WallMart_Version2.ipynb\" target=\"_parent\"><img src=\"https://colab.research.google.com/assets/colab-badge.svg\" alt=\"Open In Colab\"/></a>"
      ]
    },
    {
      "cell_type": "code",
      "source": [
        "# Read data and Import Libraries"
      ],
      "metadata": {
        "_uuid": "0edaf427-09ad-4db6-a96e-96b6cd502d56",
        "_cell_guid": "6513ca11-8f5f-41f2-8559-9c78951bdf64",
        "id": "EgRDRYSwRQ8m",
        "trusted": true
      },
      "execution_count": null,
      "outputs": []
    },
    {
      "cell_type": "code",
      "source": [
        "#Activate if in Google Colab\n",
        "\n",
        "# from google.colab import drive\n",
        "# import os\n",
        "# drive.mount('/content/drive')\n",
        "# #Mount the drive\n",
        "\n",
        "# #Change directory\n",
        "# %cd /content/drive/MyDrive/Data_Science_Stuff/ML_AI.lnk/ML_Projects_Common/'Walmart_Sales_Prediction'/Data_Set/"
      ],
      "metadata": {
        "_uuid": "6ea912ef-3cd9-404c-86d6-bd532eb993ec",
        "_cell_guid": "9b781907-1d43-4ec2-9c76-70895735900b",
        "id": "V-0Hd1xLNDYt",
        "jupyter": {
          "outputs_hidden": false
        },
        "execution": {
          "iopub.status.busy": "2022-07-25T02:25:39.877108Z",
          "iopub.execute_input": "2022-07-25T02:25:39.877519Z",
          "iopub.status.idle": "2022-07-25T02:25:39.882413Z",
          "shell.execute_reply.started": "2022-07-25T02:25:39.877484Z",
          "shell.execute_reply": "2022-07-25T02:25:39.881141Z"
        },
        "trusted": true
      },
      "execution_count": null,
      "outputs": []
    },
    {
      "cell_type": "code",
      "source": [
        "#Activate if in Kaggle\n",
        "\n",
        "# from google.colab import drive\n",
        "# import os\n",
        "# drive.mount('/content/drive')\n",
        "# #Mount the drive\n",
        "\n",
        "# #Change directory\n",
        "%cd ../input/walmart-recruiting-store-sales-forecasting"
      ],
      "metadata": {
        "_uuid": "14a1d07d-37a1-4fcc-bc69-2b70d38cbd4c",
        "_cell_guid": "5e1a01cc-dbb1-4d66-af2b-0ee3dee2f360",
        "jupyter": {
          "outputs_hidden": false
        },
        "execution": {
          "iopub.status.busy": "2022-07-27T02:00:20.539177Z",
          "iopub.execute_input": "2022-07-27T02:00:20.539652Z",
          "iopub.status.idle": "2022-07-27T02:00:20.549227Z",
          "shell.execute_reply.started": "2022-07-27T02:00:20.539614Z",
          "shell.execute_reply": "2022-07-27T02:00:20.547756Z"
        },
        "trusted": true,
        "id": "W1RhleBTYeoi"
      },
      "execution_count": null,
      "outputs": []
    },
    {
      "cell_type": "code",
      "source": [
        "ls"
      ],
      "metadata": {
        "_uuid": "bb56b6cf-aa55-4225-b2ec-8aeaa87658d2",
        "_cell_guid": "2e0ede69-9c2a-44a3-b50d-f9c302dfee67",
        "jupyter": {
          "outputs_hidden": false
        },
        "execution": {
          "iopub.status.busy": "2022-07-27T02:00:22.357038Z",
          "iopub.execute_input": "2022-07-27T02:00:22.357750Z",
          "iopub.status.idle": "2022-07-27T02:00:23.144256Z",
          "shell.execute_reply.started": "2022-07-27T02:00:22.357694Z",
          "shell.execute_reply": "2022-07-27T02:00:23.143055Z"
        },
        "trusted": true,
        "id": "sCFfxm5SYeoj"
      },
      "execution_count": null,
      "outputs": []
    },
    {
      "cell_type": "code",
      "source": [
        "#Import library\n",
        "\n",
        "import pandas as pd\n",
        "import numpy as np\n",
        "from sklearn.model_selection import train_test_split\n",
        "import matplotlib.pyplot as plt\n",
        "import seaborn as sns\n",
        "from os.path import exists\n",
        "import zipfile#To directly read zip files\n",
        "\n",
        "from matplotlib import rcParams#Import this to fix Figure sizes\n",
        "\n",
        "\n",
        "import calendar"
      ],
      "metadata": {
        "_uuid": "b24eabfe-d3ae-4326-aeb6-a99b07e1e7a5",
        "_cell_guid": "df407af6-2821-4fd5-bee7-142cfc30de49",
        "id": "bB_J2nh9SfGt",
        "jupyter": {
          "outputs_hidden": false
        },
        "execution": {
          "iopub.status.busy": "2022-07-27T02:00:23.272196Z",
          "iopub.execute_input": "2022-07-27T02:00:23.272870Z",
          "iopub.status.idle": "2022-07-27T02:00:24.077671Z",
          "shell.execute_reply.started": "2022-07-27T02:00:23.272832Z",
          "shell.execute_reply": "2022-07-27T02:00:24.076359Z"
        },
        "trusted": true
      },
      "execution_count": null,
      "outputs": []
    },
    {
      "cell_type": "code",
      "source": [
        "#Upzip and read .csv files (train set)\n",
        "\n",
        "zf = zipfile.ZipFile('train.csv.zip') \n",
        "df_train = pd.read_csv(zf.open('train.csv'))"
      ],
      "metadata": {
        "_uuid": "d2610007-a6ed-4d5f-b6f9-83628938d81e",
        "_cell_guid": "055157d1-d10b-47e0-b3a3-e90ededacf5b",
        "id": "ZmI10j_AS-M4",
        "jupyter": {
          "outputs_hidden": false
        },
        "execution": {
          "iopub.status.busy": "2022-07-27T02:00:24.718272Z",
          "iopub.execute_input": "2022-07-27T02:00:24.718816Z",
          "iopub.status.idle": "2022-07-27T02:00:25.092712Z",
          "shell.execute_reply.started": "2022-07-27T02:00:24.718775Z",
          "shell.execute_reply": "2022-07-27T02:00:25.091421Z"
        },
        "trusted": true
      },
      "execution_count": null,
      "outputs": []
    },
    {
      "cell_type": "code",
      "source": [
        "#Upzip and read .csv files (test set)\n",
        "\n",
        "\n",
        "zf = zipfile.ZipFile('test.csv.zip') \n",
        "df_test = pd.read_csv(zf.open('test.csv'))"
      ],
      "metadata": {
        "_uuid": "c8705274-124c-4ce0-955b-287314d0cc8a",
        "_cell_guid": "ada82734-28f0-4a1c-a4cf-09d133951109",
        "id": "WHJAsIkGfNZH",
        "jupyter": {
          "outputs_hidden": false
        },
        "execution": {
          "iopub.status.busy": "2022-07-27T02:00:25.577163Z",
          "iopub.execute_input": "2022-07-27T02:00:25.577610Z",
          "iopub.status.idle": "2022-07-27T02:00:25.656361Z",
          "shell.execute_reply.started": "2022-07-27T02:00:25.577573Z",
          "shell.execute_reply": "2022-07-27T02:00:25.655129Z"
        },
        "trusted": true
      },
      "execution_count": null,
      "outputs": []
    },
    {
      "cell_type": "code",
      "source": [
        "#Upzip and read .csv files (features files)\n",
        "\n",
        "zf = zipfile.ZipFile('features.csv.zip') \n",
        "df_features = pd.read_csv(zf.open('features.csv'))"
      ],
      "metadata": {
        "_uuid": "812cc9a4-2a89-4467-9b2e-71638d73f714",
        "_cell_guid": "ee41e972-0270-483f-a70e-cbc09d42c5e4",
        "id": "Im9pa6NHeSua",
        "jupyter": {
          "outputs_hidden": false
        },
        "execution": {
          "iopub.status.busy": "2022-07-27T02:00:26.522259Z",
          "iopub.execute_input": "2022-07-27T02:00:26.522649Z",
          "iopub.status.idle": "2022-07-27T02:00:26.556193Z",
          "shell.execute_reply.started": "2022-07-27T02:00:26.522617Z",
          "shell.execute_reply": "2022-07-27T02:00:26.554990Z"
        },
        "trusted": true
      },
      "execution_count": null,
      "outputs": []
    },
    {
      "cell_type": "code",
      "source": [
        "#Read .csv files (store files)\n",
        "\n",
        "df_store=pd.read_csv(\"stores.csv\")"
      ],
      "metadata": {
        "_uuid": "8b5c51ef-84df-4444-9565-58acb354ab62",
        "_cell_guid": "6e1496db-3e94-41da-a8d0-1be4aaa5ff6b",
        "id": "RPvmgd4bef0l",
        "jupyter": {
          "outputs_hidden": false
        },
        "execution": {
          "iopub.status.busy": "2022-07-27T02:00:27.514078Z",
          "iopub.execute_input": "2022-07-27T02:00:27.514504Z",
          "iopub.status.idle": "2022-07-27T02:00:27.529500Z",
          "shell.execute_reply.started": "2022-07-27T02:00:27.514472Z",
          "shell.execute_reply": "2022-07-27T02:00:27.527761Z"
        },
        "trusted": true
      },
      "execution_count": null,
      "outputs": []
    },
    {
      "cell_type": "code",
      "source": [
        "df_train.head()"
      ],
      "metadata": {
        "_uuid": "80a62cae-f2e9-4abd-8566-3e951bc8510c",
        "_cell_guid": "35e07645-2a10-4782-8748-ec1b95acd3de",
        "id": "iSfwC_dyarFv",
        "jupyter": {
          "outputs_hidden": false
        },
        "execution": {
          "iopub.status.busy": "2022-07-27T02:00:28.568480Z",
          "iopub.execute_input": "2022-07-27T02:00:28.569353Z",
          "iopub.status.idle": "2022-07-27T02:00:28.594983Z",
          "shell.execute_reply.started": "2022-07-27T02:00:28.569311Z",
          "shell.execute_reply": "2022-07-27T02:00:28.594053Z"
        },
        "trusted": true
      },
      "execution_count": null,
      "outputs": []
    },
    {
      "cell_type": "code",
      "source": [
        "df_test.head()"
      ],
      "metadata": {
        "_uuid": "2d10a26d-3cb3-4071-94c5-23fd9118a454",
        "_cell_guid": "a3628371-da0d-4d81-a018-0acb6f4fadcb",
        "id": "NoxBWwoqarPn",
        "jupyter": {
          "outputs_hidden": false
        },
        "execution": {
          "iopub.status.busy": "2022-07-27T02:00:29.238033Z",
          "iopub.execute_input": "2022-07-27T02:00:29.238883Z",
          "iopub.status.idle": "2022-07-27T02:00:29.255007Z",
          "shell.execute_reply.started": "2022-07-27T02:00:29.238839Z",
          "shell.execute_reply": "2022-07-27T02:00:29.253956Z"
        },
        "trusted": true
      },
      "execution_count": null,
      "outputs": []
    },
    {
      "cell_type": "code",
      "source": [
        "df_features.head()"
      ],
      "metadata": {
        "_uuid": "e42b446d-591c-461e-8b05-dab90d7c981d",
        "_cell_guid": "18ce9667-7d1c-4752-abf2-5b3f328e8105",
        "id": "Wf1DunnYhbZf",
        "jupyter": {
          "outputs_hidden": false
        },
        "execution": {
          "iopub.status.busy": "2022-07-27T02:00:30.507805Z",
          "iopub.execute_input": "2022-07-27T02:00:30.508232Z",
          "iopub.status.idle": "2022-07-27T02:00:30.529888Z",
          "shell.execute_reply.started": "2022-07-27T02:00:30.508200Z",
          "shell.execute_reply": "2022-07-27T02:00:30.528665Z"
        },
        "trusted": true
      },
      "execution_count": null,
      "outputs": []
    },
    {
      "cell_type": "code",
      "source": [
        "df_store.head()"
      ],
      "metadata": {
        "_uuid": "eb61377d-7b8f-481a-acdc-16085ef93f74",
        "_cell_guid": "01db2546-7665-4ecb-bf8a-9b0a639e2635",
        "id": "R7DOuqBAhbks",
        "jupyter": {
          "outputs_hidden": false
        },
        "execution": {
          "iopub.status.busy": "2022-07-27T02:00:31.726562Z",
          "iopub.execute_input": "2022-07-27T02:00:31.727483Z",
          "iopub.status.idle": "2022-07-27T02:00:31.741688Z",
          "shell.execute_reply.started": "2022-07-27T02:00:31.727438Z",
          "shell.execute_reply": "2022-07-27T02:00:31.740379Z"
        },
        "trusted": true
      },
      "execution_count": null,
      "outputs": []
    },
    {
      "cell_type": "markdown",
      "source": [
        "# Dataset overall analysis"
      ],
      "metadata": {
        "_uuid": "13af864c-7bfc-46f4-acbe-a986abc4a484",
        "_cell_guid": "ce1a1d5b-d0e7-497e-bb73-4ec8e314c8b4",
        "id": "kz8YJm3savP-",
        "trusted": true
      }
    },
    {
      "cell_type": "code",
      "source": [
        "train_group=df_train.groupby(\"Store\")"
      ],
      "metadata": {
        "_uuid": "2dc1eff1-8127-4691-93b3-9fc0194739ce",
        "_cell_guid": "31a9b59d-0f1c-4b8a-be20-7fb630f843b9",
        "id": "BDRl2MdFTmFg",
        "jupyter": {
          "outputs_hidden": false
        },
        "execution": {
          "iopub.status.busy": "2022-07-27T02:00:34.786455Z",
          "iopub.execute_input": "2022-07-27T02:00:34.786944Z",
          "iopub.status.idle": "2022-07-27T02:00:34.797342Z",
          "shell.execute_reply.started": "2022-07-27T02:00:34.786903Z",
          "shell.execute_reply": "2022-07-27T02:00:34.795826Z"
        },
        "trusted": true
      },
      "execution_count": null,
      "outputs": []
    },
    {
      "cell_type": "code",
      "source": [
        "#List of stores:\n",
        "\n",
        "print(\" List of stores: \",train_group.groups.keys())"
      ],
      "metadata": {
        "_uuid": "59d20953-60f4-49e2-9364-2ee61110e0e4",
        "_cell_guid": "3e930646-edfb-4525-9f0e-e525f50cd253",
        "id": "Daix_ggAZdGp",
        "jupyter": {
          "outputs_hidden": false
        },
        "execution": {
          "iopub.status.busy": "2022-07-27T02:00:36.774794Z",
          "iopub.execute_input": "2022-07-27T02:00:36.775700Z",
          "iopub.status.idle": "2022-07-27T02:00:36.812889Z",
          "shell.execute_reply.started": "2022-07-27T02:00:36.775652Z",
          "shell.execute_reply": "2022-07-27T02:00:36.811783Z"
        },
        "trusted": true
      },
      "execution_count": null,
      "outputs": []
    },
    {
      "cell_type": "markdown",
      "source": [
        "  *Observation from above:\n",
        "We have store numbers starting from 1 to 45*\n",
        "\n",
        ">>>>>>>>>>>>>>>>>>>>>>>>>>>>>>>>>>>>>>>>>>>>>>"
      ],
      "metadata": {
        "_uuid": "a15cdfe1-d89c-44ee-9fe2-7cea693d960d",
        "_cell_guid": "ad2d85bb-8d24-4ca4-8f13-af5dcef4e2df",
        "id": "a-CUtT61aRLC",
        "trusted": true
      }
    },
    {
      "cell_type": "code",
      "source": [
        "#Plot missing values for each column\n",
        "missing_df = df_train.isnull().sum(axis=0).reset_index()\n",
        "missing_df.columns = ['column_name', 'missing_count']\n",
        "missing_df = missing_df.loc[missing_df['missing_count']>0]\n",
        "missing_df = missing_df.sort_values(by='missing_count')\n",
        "print(missing_df)\n",
        "\n",
        "ind = np.arange(missing_df.shape[0])\n",
        "width = 0.9\n",
        "fig, ax = plt.subplots(figsize=(8,6))\n",
        "rects = ax.barh(ind, missing_df.missing_count.values, color='blue')\n",
        "ax.set_yticks(ind)\n",
        "ax.set_yticklabels(missing_df.column_name.values, rotation='horizontal')\n",
        "ax.set_xlabel(\"Count of missing values in Train data set\")\n",
        "ax.set_title(\"Number of missing values in each column\")\n",
        "plt.show()"
      ],
      "metadata": {
        "_uuid": "0eb4d66f-46ed-4d1d-b24a-f1e2edc8aad0",
        "_cell_guid": "2b949e93-5991-4149-aba5-bce247252cf7",
        "id": "KNnqVShxaypw",
        "jupyter": {
          "outputs_hidden": false
        },
        "execution": {
          "iopub.status.busy": "2022-07-27T02:00:39.442959Z",
          "iopub.execute_input": "2022-07-27T02:00:39.443654Z",
          "iopub.status.idle": "2022-07-27T02:00:39.690437Z",
          "shell.execute_reply.started": "2022-07-27T02:00:39.443618Z",
          "shell.execute_reply": "2022-07-27T02:00:39.688925Z"
        },
        "trusted": true
      },
      "execution_count": null,
      "outputs": []
    },
    {
      "cell_type": "code",
      "source": [
        "#Plot missing values for each column\n",
        "missing_df = df_test.isnull().sum(axis=0).reset_index()\n",
        "missing_df.columns = ['column_name', 'missing_count']\n",
        "missing_df = missing_df.loc[missing_df['missing_count']>0]\n",
        "missing_df = missing_df.sort_values(by='missing_count')\n",
        "print(missing_df)\n",
        "\n",
        "ind = np.arange(missing_df.shape[0])\n",
        "width = 0.9\n",
        "fig, ax = plt.subplots(figsize=(8,6))\n",
        "rects = ax.barh(ind, missing_df.missing_count.values, color='blue')\n",
        "ax.set_yticks(ind)\n",
        "ax.set_yticklabels(missing_df.column_name.values, rotation='horizontal')\n",
        "ax.set_xlabel(\"Count of missing values in Test data set\")\n",
        "ax.set_title(\"Number of missing values in each column\")\n",
        "plt.show()"
      ],
      "metadata": {
        "_uuid": "4f2b4b60-a328-4d86-ba77-822e93ae3e38",
        "_cell_guid": "4f733c5a-26e2-4d3b-8d12-fae8f06bcc95",
        "id": "TKRCGbYOgo8a",
        "jupyter": {
          "outputs_hidden": false
        },
        "execution": {
          "iopub.status.busy": "2022-07-27T02:00:40.210251Z",
          "iopub.execute_input": "2022-07-27T02:00:40.211635Z",
          "iopub.status.idle": "2022-07-27T02:00:40.388095Z",
          "shell.execute_reply.started": "2022-07-27T02:00:40.211592Z",
          "shell.execute_reply": "2022-07-27T02:00:40.386918Z"
        },
        "trusted": true
      },
      "execution_count": null,
      "outputs": []
    },
    {
      "cell_type": "markdown",
      "source": [
        "*Observation from above:\n",
        "There are no missing values in Train set and Test set*"
      ],
      "metadata": {
        "_uuid": "cf4de9e4-1ea5-4fa3-b2f2-2865781b2fc0",
        "_cell_guid": "fba551d7-1636-4b29-b16d-8da3699d2e76",
        "id": "yE5vA2SseKmy",
        "trusted": true
      }
    },
    {
      "cell_type": "code",
      "source": [
        "#Plot missing values for each column\n",
        "missing_df = df_features.isnull().sum(axis=0).reset_index()\n",
        "missing_df.columns = ['column_name', 'missing_count']\n",
        "missing_df = missing_df.loc[missing_df['missing_count']>0]\n",
        "missing_df = missing_df.sort_values(by='missing_count')\n",
        "print(missing_df)\n",
        "\n",
        "ind = np.arange(missing_df.shape[0])\n",
        "width = 0.9\n",
        "fig, ax = plt.subplots(figsize=(8,6))\n",
        "rects = ax.barh(ind, missing_df.missing_count.values, color='blue')\n",
        "ax.set_yticks(ind)\n",
        "ax.set_yticklabels(missing_df.column_name.values, rotation='horizontal')\n",
        "ax.set_xlabel(\"Count of missing values in Features data set\")\n",
        "ax.set_title(\"Number of missing values in each column\")\n",
        "plt.show()"
      ],
      "metadata": {
        "_uuid": "d32d777f-73fc-4c3e-89f3-7b9f08cef60a",
        "_cell_guid": "af70d7e9-94a1-42a1-98f1-226de566239c",
        "id": "Jr48mwepZaOK",
        "jupyter": {
          "outputs_hidden": false
        },
        "execution": {
          "iopub.status.busy": "2022-07-27T02:00:42.192770Z",
          "iopub.execute_input": "2022-07-27T02:00:42.194059Z",
          "iopub.status.idle": "2022-07-27T02:00:42.408021Z",
          "shell.execute_reply.started": "2022-07-27T02:00:42.194008Z",
          "shell.execute_reply": "2022-07-27T02:00:42.406804Z"
        },
        "trusted": true
      },
      "execution_count": null,
      "outputs": []
    },
    {
      "cell_type": "code",
      "source": [
        "#Plot missing values for each column\n",
        "missing_df = df_store.isnull().sum(axis=0).reset_index()\n",
        "missing_df.columns = ['column_name', 'missing_count']\n",
        "missing_df = missing_df.loc[missing_df['missing_count']>0]\n",
        "missing_df = missing_df.sort_values(by='missing_count')\n",
        "print(missing_df)\n",
        "\n",
        "ind = np.arange(missing_df.shape[0])\n",
        "width = 0.9\n",
        "fig, ax = plt.subplots(figsize=(8,6))\n",
        "rects = ax.barh(ind, missing_df.missing_count.values, color='blue')\n",
        "ax.set_yticks(ind)\n",
        "ax.set_yticklabels(missing_df.column_name.values, rotation='horizontal')\n",
        "ax.set_xlabel(\"Count of missing values in Stores data set\")\n",
        "ax.set_title(\"Number of missing values in each column\")\n",
        "plt.show()"
      ],
      "metadata": {
        "_uuid": "38a5a87c-90c5-4d61-ad11-0c7dd77c626f",
        "_cell_guid": "36af6d06-6d5e-4d5a-b841-2fce87f8d158",
        "id": "MWK6hzHQhN8H",
        "jupyter": {
          "outputs_hidden": false
        },
        "execution": {
          "iopub.status.busy": "2022-07-27T02:00:43.722231Z",
          "iopub.execute_input": "2022-07-27T02:00:43.724172Z",
          "iopub.status.idle": "2022-07-27T02:00:43.883051Z",
          "shell.execute_reply.started": "2022-07-27T02:00:43.724116Z",
          "shell.execute_reply": "2022-07-27T02:00:43.881896Z"
        },
        "trusted": true
      },
      "execution_count": null,
      "outputs": []
    },
    {
      "cell_type": "markdown",
      "source": [
        "*Observation from above:\n",
        "We have missing columns only in Features dataset for Markdowns and CPI and Unemployment.\n",
        "Missing value can either be made 0, or we can simply drop columns with large number of missing values.\n",
        "This will be explored in next steps.*"
      ],
      "metadata": {
        "_uuid": "bfb80cad-e6ea-48ec-aa24-f4cf78ac0ffd",
        "_cell_guid": "a07e25d3-34d5-478e-b5b2-09dc6cdc99ce",
        "id": "wnp7yBQXj6fD",
        "trusted": true
      }
    },
    {
      "cell_type": "markdown",
      "source": [
        "# #rough work"
      ],
      "metadata": {
        "_uuid": "aad95d1a-e085-41c3-8446-928cd5c4df4f",
        "_cell_guid": "401153c9-e2c5-46e7-9c52-a5f413a07574",
        "id": "o16UOtu4bT4z",
        "trusted": true
      }
    },
    {
      "cell_type": "code",
      "source": [
        "train_group_store=df_train.groupby(\"Store\")"
      ],
      "metadata": {
        "_uuid": "e77bd516-79e7-4ccf-b784-dcfb26f2978e",
        "_cell_guid": "0b79b897-cf48-4d6f-80a5-20ee33ee7656",
        "id": "pwJ3-YkoU0l7",
        "jupyter": {
          "outputs_hidden": false
        },
        "execution": {
          "iopub.status.busy": "2022-07-25T02:25:50.182174Z",
          "iopub.execute_input": "2022-07-25T02:25:50.182729Z",
          "iopub.status.idle": "2022-07-25T02:25:50.192660Z",
          "shell.execute_reply.started": "2022-07-25T02:25:50.182680Z",
          "shell.execute_reply": "2022-07-25T02:25:50.191115Z"
        },
        "trusted": true
      },
      "execution_count": null,
      "outputs": []
    },
    {
      "cell_type": "code",
      "source": [
        "train_group_holiday=df_train.groupby(\"IsHoliday\")"
      ],
      "metadata": {
        "_uuid": "b538e88e-3db8-4c04-8640-c924a5343ac1",
        "_cell_guid": "67004caf-52f5-4622-a81c-24cdf6cabfe3",
        "id": "tyUVpmx5YPXH",
        "jupyter": {
          "outputs_hidden": false
        },
        "execution": {
          "iopub.status.busy": "2022-07-25T02:26:47.913977Z",
          "iopub.execute_input": "2022-07-25T02:26:47.914399Z",
          "iopub.status.idle": "2022-07-25T02:26:47.919712Z",
          "shell.execute_reply.started": "2022-07-25T02:26:47.914364Z",
          "shell.execute_reply": "2022-07-25T02:26:47.918474Z"
        },
        "trusted": true
      },
      "execution_count": null,
      "outputs": []
    },
    {
      "cell_type": "code",
      "source": [
        "train_group_holiday.groups.keys()"
      ],
      "metadata": {
        "_uuid": "fe0de7e8-7644-4ec4-92f3-7eb7507092d4",
        "_cell_guid": "e417c557-b0c1-46ca-9fa1-fa15fa36a02e",
        "id": "mNG3iqmjY-bR",
        "jupyter": {
          "outputs_hidden": false
        },
        "execution": {
          "iopub.status.busy": "2022-07-25T02:26:49.300874Z",
          "iopub.execute_input": "2022-07-25T02:26:49.301739Z",
          "iopub.status.idle": "2022-07-25T02:26:49.325853Z",
          "shell.execute_reply.started": "2022-07-25T02:26:49.301695Z",
          "shell.execute_reply": "2022-07-25T02:26:49.325080Z"
        },
        "trusted": true
      },
      "execution_count": null,
      "outputs": []
    },
    {
      "cell_type": "code",
      "source": [
        "train_group_holiday.get_group(True)"
      ],
      "metadata": {
        "_uuid": "30fd4dcc-e4a3-499d-94ea-ca0457ea78f9",
        "_cell_guid": "df28e937-58bb-42e5-8bd6-e2221a2a6e02",
        "id": "t50P1q74YFqR",
        "jupyter": {
          "outputs_hidden": false
        },
        "execution": {
          "iopub.status.busy": "2022-07-25T02:26:50.196579Z",
          "iopub.execute_input": "2022-07-25T02:26:50.197933Z",
          "iopub.status.idle": "2022-07-25T02:26:50.232233Z",
          "shell.execute_reply.started": "2022-07-25T02:26:50.197880Z",
          "shell.execute_reply": "2022-07-25T02:26:50.231263Z"
        },
        "trusted": true
      },
      "execution_count": null,
      "outputs": []
    },
    {
      "cell_type": "code",
      "source": [
        "print(\" List of stores: \",train_group.groups.keys())"
      ],
      "metadata": {
        "_uuid": "c6336a3d-70ac-416a-a8de-8bc1a5c72b15",
        "_cell_guid": "825bf22c-04b7-4ac2-86de-971db6c6c87e",
        "id": "RuNiJ6uJYGnx",
        "jupyter": {
          "outputs_hidden": false
        },
        "execution": {
          "iopub.status.busy": "2022-07-25T02:26:51.484670Z",
          "iopub.execute_input": "2022-07-25T02:26:51.485638Z",
          "iopub.status.idle": "2022-07-25T02:26:51.501845Z",
          "shell.execute_reply.started": "2022-07-25T02:26:51.485602Z",
          "shell.execute_reply": "2022-07-25T02:26:51.500744Z"
        },
        "trusted": true
      },
      "execution_count": null,
      "outputs": []
    },
    {
      "cell_type": "code",
      "source": [
        "df_train.head()"
      ],
      "metadata": {
        "_uuid": "d072bbc7-48a2-49d1-80c0-b4d62d2f8e34",
        "_cell_guid": "b09ce44e-385b-4e0b-ab61-eae8afd006d8",
        "id": "CAEPeO8gbif5",
        "jupyter": {
          "outputs_hidden": false
        },
        "execution": {
          "iopub.status.busy": "2022-07-21T01:59:33.344540Z",
          "iopub.execute_input": "2022-07-21T01:59:33.345096Z",
          "iopub.status.idle": "2022-07-21T01:59:33.360557Z",
          "shell.execute_reply.started": "2022-07-21T01:59:33.345056Z",
          "shell.execute_reply": "2022-07-21T01:59:33.359436Z"
        },
        "trusted": true
      },
      "execution_count": null,
      "outputs": []
    },
    {
      "cell_type": "code",
      "source": [
        "df_features.head()"
      ],
      "metadata": {
        "_uuid": "3016ebb0-67a0-4511-b605-e97a51378936",
        "_cell_guid": "f1d54612-1cdc-4919-946d-3c7d06e11fed",
        "id": "TUqMGeNCblUR",
        "jupyter": {
          "outputs_hidden": false
        },
        "execution": {
          "iopub.status.busy": "2022-07-21T01:59:33.361875Z",
          "iopub.execute_input": "2022-07-21T01:59:33.362381Z",
          "iopub.status.idle": "2022-07-21T01:59:33.382210Z",
          "shell.execute_reply.started": "2022-07-21T01:59:33.362347Z",
          "shell.execute_reply": "2022-07-21T01:59:33.381175Z"
        },
        "trusted": true
      },
      "execution_count": null,
      "outputs": []
    },
    {
      "cell_type": "code",
      "source": [
        "df_store.head()"
      ],
      "metadata": {
        "_uuid": "528fb1ce-fdc2-4581-87e9-6cf252471083",
        "_cell_guid": "a699c06e-99e0-4502-8eea-0ed92465bce9",
        "id": "D7-Nw8q4bpGX",
        "jupyter": {
          "outputs_hidden": false
        },
        "execution": {
          "iopub.status.busy": "2022-07-21T01:59:33.431799Z",
          "iopub.execute_input": "2022-07-21T01:59:33.432241Z",
          "iopub.status.idle": "2022-07-21T01:59:33.444329Z",
          "shell.execute_reply.started": "2022-07-21T01:59:33.432206Z",
          "shell.execute_reply": "2022-07-21T01:59:33.443182Z"
        },
        "trusted": true
      },
      "execution_count": null,
      "outputs": []
    },
    {
      "cell_type": "markdown",
      "source": [
        "# Cleaning the data"
      ],
      "metadata": {
        "_uuid": "e0753803-9df8-4b4f-a748-aa9581e6a0a0",
        "_cell_guid": "a03efaf3-7dff-4a9c-9479-65a5d2fd0172",
        "id": "XemixkPxe8R4",
        "trusted": true
      }
    },
    {
      "cell_type": "code",
      "source": [
        "#Merge train dataframe and store dataframe:--\n",
        "\n",
        "\n",
        "df_train_store=pd.merge(df_train,df_store,on=\"Store\",how=\"outer\")\n",
        "\n",
        "df_train_store"
      ],
      "metadata": {
        "_uuid": "62ea348f-9652-4096-a313-faa4ce41b57e",
        "_cell_guid": "5c28477a-4e2b-4239-8c64-7fc5a27a8778",
        "id": "jkhHuTOYcj3C",
        "jupyter": {
          "outputs_hidden": false
        },
        "execution": {
          "iopub.status.busy": "2022-07-27T02:00:48.814488Z",
          "iopub.execute_input": "2022-07-27T02:00:48.814884Z",
          "iopub.status.idle": "2022-07-27T02:00:48.916610Z",
          "shell.execute_reply.started": "2022-07-27T02:00:48.814850Z",
          "shell.execute_reply": "2022-07-27T02:00:48.915469Z"
        },
        "trusted": true
      },
      "execution_count": null,
      "outputs": []
    },
    {
      "cell_type": "code",
      "source": [
        "df_train_store"
      ],
      "metadata": {
        "_uuid": "b1ff2d13-7483-470d-aec8-3d559858c3ea",
        "_cell_guid": "dfa66a90-13f8-414b-865a-8dd4b605865b",
        "id": "2YU-KYEScmMp",
        "jupyter": {
          "outputs_hidden": false
        },
        "execution": {
          "iopub.status.busy": "2022-07-27T02:00:49.922886Z",
          "iopub.execute_input": "2022-07-27T02:00:49.924142Z",
          "iopub.status.idle": "2022-07-27T02:00:49.946322Z",
          "shell.execute_reply.started": "2022-07-27T02:00:49.924088Z",
          "shell.execute_reply": "2022-07-27T02:00:49.944653Z"
        },
        "trusted": true
      },
      "execution_count": null,
      "outputs": []
    },
    {
      "cell_type": "code",
      "source": [
        "#Plot missing values for each column\n",
        "missing_df = df_train_store.isnull().sum(axis=0).reset_index()\n",
        "missing_df.columns = ['column_name', 'missing_count']\n",
        "missing_df = missing_df.loc[missing_df['missing_count']>0]\n",
        "missing_df = missing_df.sort_values(by='missing_count')\n",
        "print(missing_df)\n",
        "\n",
        "ind = np.arange(missing_df.shape[0])\n",
        "width = 0.9\n",
        "fig, ax = plt.subplots(figsize=(8,6))\n",
        "rects = ax.barh(ind, missing_df.missing_count.values, color='blue')\n",
        "ax.set_yticks(ind)\n",
        "ax.set_yticklabels(missing_df.column_name.values, rotation='horizontal')\n",
        "ax.set_xlabel(\"Count of missing values in Stores data set\")\n",
        "ax.set_title(\"Number of missing values in each column\")\n",
        "plt.show()"
      ],
      "metadata": {
        "_uuid": "e67a7868-48f1-4975-8ee4-2e2c747a98ee",
        "_cell_guid": "ae93580e-fba4-4d48-8148-262a6c02591d",
        "id": "NV7kF45ec8ll",
        "jupyter": {
          "outputs_hidden": false
        },
        "execution": {
          "iopub.status.busy": "2022-07-27T02:00:50.455608Z",
          "iopub.execute_input": "2022-07-27T02:00:50.456917Z",
          "iopub.status.idle": "2022-07-27T02:00:50.707961Z",
          "shell.execute_reply.started": "2022-07-27T02:00:50.456859Z",
          "shell.execute_reply": "2022-07-27T02:00:50.706820Z"
        },
        "trusted": true
      },
      "execution_count": null,
      "outputs": []
    },
    {
      "cell_type": "markdown",
      "source": [
        "*Observation:\n",
        "No missing features after merging train and store dataframe, which implies all Stores are accounted for and merge should be successful*"
      ],
      "metadata": {
        "_uuid": "e1909f0e-22cc-4b39-8248-abaaf0ba8da1",
        "_cell_guid": "367e4d8b-f2fa-4184-af83-c51ec0fd80e4",
        "id": "VkzzTCGXdAi1",
        "trusted": true
      }
    },
    {
      "cell_type": "code",
      "source": [
        "df_features_new=df_features.fillna(0)#Fill NaN as 0"
      ],
      "metadata": {
        "_uuid": "3c211802-eef7-4c69-ba15-b61c807ce9fc",
        "_cell_guid": "15c45dd0-3f95-4b78-a16f-a36dc619801e",
        "id": "YNZHtxb4c-Lh",
        "jupyter": {
          "outputs_hidden": false
        },
        "execution": {
          "iopub.status.busy": "2022-07-27T02:00:51.594378Z",
          "iopub.execute_input": "2022-07-27T02:00:51.594838Z",
          "iopub.status.idle": "2022-07-27T02:00:51.602415Z",
          "shell.execute_reply.started": "2022-07-27T02:00:51.594804Z",
          "shell.execute_reply": "2022-07-27T02:00:51.601368Z"
        },
        "trusted": true
      },
      "execution_count": null,
      "outputs": []
    },
    {
      "cell_type": "code",
      "source": [
        "df_features_new"
      ],
      "metadata": {
        "_uuid": "1ab7e14a-9bce-4dbe-a843-c21a3ed14bc8",
        "_cell_guid": "b4b904ff-b838-44c7-843f-524602dc94a3",
        "id": "X6DZCOOKfGsN",
        "jupyter": {
          "outputs_hidden": false
        },
        "execution": {
          "iopub.status.busy": "2022-07-27T02:00:52.739439Z",
          "iopub.execute_input": "2022-07-27T02:00:52.740704Z",
          "iopub.status.idle": "2022-07-27T02:00:52.769453Z",
          "shell.execute_reply.started": "2022-07-27T02:00:52.740658Z",
          "shell.execute_reply": "2022-07-27T02:00:52.768609Z"
        },
        "trusted": true
      },
      "execution_count": null,
      "outputs": []
    },
    {
      "cell_type": "code",
      "source": [
        "#Merge df_features_new and df_train dataframe:--\n",
        "\n",
        "df_train_fea_store=pd.merge(df_features_new,df_train_store,on=[\"Store\",\"Date\"],how=\"outer\")"
      ],
      "metadata": {
        "_uuid": "aaefb921-2197-4b8f-b2aa-972f9a203740",
        "_cell_guid": "53942dea-859b-4b4a-9af5-2f529678cf58",
        "id": "CNnlffM-fH9s",
        "jupyter": {
          "outputs_hidden": false
        },
        "execution": {
          "iopub.status.busy": "2022-07-27T02:00:53.587970Z",
          "iopub.execute_input": "2022-07-27T02:00:53.589059Z",
          "iopub.status.idle": "2022-07-27T02:00:53.822681Z",
          "shell.execute_reply.started": "2022-07-27T02:00:53.589015Z",
          "shell.execute_reply": "2022-07-27T02:00:53.821682Z"
        },
        "trusted": true
      },
      "execution_count": null,
      "outputs": []
    },
    {
      "cell_type": "code",
      "source": [
        "df_train_fea_store"
      ],
      "metadata": {
        "_uuid": "be703811-5f91-4de9-a9cf-2d72da55b1a9",
        "_cell_guid": "1d6b2566-815f-49d6-a2e2-1271c45babe9",
        "id": "9X46jXkBrUh6",
        "jupyter": {
          "outputs_hidden": false
        },
        "execution": {
          "iopub.status.busy": "2022-07-27T02:00:54.356108Z",
          "iopub.execute_input": "2022-07-27T02:00:54.356516Z",
          "iopub.status.idle": "2022-07-27T02:00:54.394784Z",
          "shell.execute_reply.started": "2022-07-27T02:00:54.356481Z",
          "shell.execute_reply": "2022-07-27T02:00:54.393694Z"
        },
        "trusted": true
      },
      "execution_count": null,
      "outputs": []
    },
    {
      "cell_type": "markdown",
      "source": [
        "*Observation:\n",
        "In able DF we can observe that after outer join we get many NaN values, \n",
        "Why do we have so many NaN? It could be that we may not have all [\"Store\",\"Date] keys available in both dataframes?!\n",
        "Missing values are replaced with -1 for further processing*"
      ],
      "metadata": {
        "_uuid": "568bd7d8-4864-4307-9c23-365a973b96a2",
        "_cell_guid": "bf3ba018-88b5-4fe7-89bd-6d38b51c1a3e",
        "id": "H1y_GP_9rXvS",
        "trusted": true
      }
    },
    {
      "cell_type": "code",
      "source": [
        "df_train_fea_store_1=df_train_fea_store.fillna(-1)"
      ],
      "metadata": {
        "_uuid": "0d7c5039-a395-4a76-ab65-4a24dcf9f963",
        "_cell_guid": "063686f2-8a9e-4fa2-a835-9ade66fe36fc",
        "id": "QHhwkCyhjnVt",
        "jupyter": {
          "outputs_hidden": false
        },
        "execution": {
          "iopub.status.busy": "2022-07-27T02:00:56.451590Z",
          "iopub.execute_input": "2022-07-27T02:00:56.452723Z",
          "iopub.status.idle": "2022-07-27T02:00:56.709938Z",
          "shell.execute_reply.started": "2022-07-27T02:00:56.452682Z",
          "shell.execute_reply": "2022-07-27T02:00:56.708396Z"
        },
        "trusted": true
      },
      "execution_count": null,
      "outputs": []
    },
    {
      "cell_type": "code",
      "source": [
        "df_train_fea_store_1"
      ],
      "metadata": {
        "_uuid": "817c56b6-3fcf-46cc-b680-c0b439fd65e3",
        "_cell_guid": "03bb5320-848b-49e9-ac19-6b7c70fe1e62",
        "id": "WbLMrqkRjNOW",
        "jupyter": {
          "outputs_hidden": false
        },
        "execution": {
          "iopub.status.busy": "2022-07-27T02:00:57.044494Z",
          "iopub.execute_input": "2022-07-27T02:00:57.044885Z",
          "iopub.status.idle": "2022-07-27T02:00:57.089561Z",
          "shell.execute_reply.started": "2022-07-27T02:00:57.044853Z",
          "shell.execute_reply": "2022-07-27T02:00:57.088420Z"
        },
        "trusted": true
      },
      "execution_count": null,
      "outputs": []
    },
    {
      "cell_type": "markdown",
      "source": [
        "*Observations:\n",
        "Large number of [\"Store\", \"Date\"] pairs seem to have no Weekly_Sales or NaN.\n",
        "These need to be dropped*"
      ],
      "metadata": {
        "_uuid": "ee8549d3-804a-4d99-87f0-475e88f5187d",
        "_cell_guid": "df7296a9-29de-4510-907f-1b5986194f45",
        "id": "6HHjXmLMoaz3",
        "trusted": true
      }
    },
    {
      "cell_type": "code",
      "source": [
        "df_train_fea_store_1[df_train_fea_store_1.Weekly_Sales==-1]"
      ],
      "metadata": {
        "_uuid": "dc2bf7ce-5dbe-40c4-a3f4-34270f8fb497",
        "_cell_guid": "32c9004e-ea7f-4b0f-ba69-4bebc04d81a0",
        "id": "0YnRnOnCkiZd",
        "jupyter": {
          "outputs_hidden": false
        },
        "execution": {
          "iopub.status.busy": "2022-07-27T02:00:58.906543Z",
          "iopub.execute_input": "2022-07-27T02:00:58.907657Z",
          "iopub.status.idle": "2022-07-27T02:00:58.977614Z",
          "shell.execute_reply.started": "2022-07-27T02:00:58.907617Z",
          "shell.execute_reply": "2022-07-27T02:00:58.976477Z"
        },
        "trusted": true
      },
      "execution_count": null,
      "outputs": []
    },
    {
      "cell_type": "code",
      "source": [
        "df_train_fea_store_1.Weekly_Sales.value_counts()"
      ],
      "metadata": {
        "_uuid": "52cadd99-cef9-40c5-8d2f-6159a53c1cda",
        "_cell_guid": "b9ca1fb3-ebd6-4f27-b83a-18193f07a92b",
        "id": "U3xpGluVmutK",
        "jupyter": {
          "outputs_hidden": false
        },
        "execution": {
          "iopub.status.busy": "2022-07-27T02:01:00.741376Z",
          "iopub.execute_input": "2022-07-27T02:01:00.741773Z",
          "iopub.status.idle": "2022-07-27T02:01:00.832162Z",
          "shell.execute_reply.started": "2022-07-27T02:01:00.741714Z",
          "shell.execute_reply": "2022-07-27T02:01:00.830924Z"
        },
        "trusted": true
      },
      "execution_count": null,
      "outputs": []
    },
    {
      "cell_type": "code",
      "source": [
        "df_train_fea_store_2=df_train_fea_store_1.drop(df_train_fea_store_1.index[df_train_fea_store_1['Weekly_Sales'] == -1])"
      ],
      "metadata": {
        "_uuid": "c3d79b69-b697-4f11-b140-cf40cfe5643b",
        "_cell_guid": "6798bfdc-ecff-4ed5-bb37-554ae2daa42d",
        "id": "BJgr0ZbvsPHw",
        "jupyter": {
          "outputs_hidden": false
        },
        "execution": {
          "iopub.status.busy": "2022-07-27T02:01:02.671618Z",
          "iopub.execute_input": "2022-07-27T02:01:02.672195Z",
          "iopub.status.idle": "2022-07-27T02:01:02.743721Z",
          "shell.execute_reply.started": "2022-07-27T02:01:02.672164Z",
          "shell.execute_reply": "2022-07-27T02:01:02.742445Z"
        },
        "trusted": true
      },
      "execution_count": null,
      "outputs": []
    },
    {
      "cell_type": "code",
      "source": [
        "df_train_fea_store_2"
      ],
      "metadata": {
        "_uuid": "932eef3e-7b37-43f2-a088-53b2f2e6e54b",
        "_cell_guid": "109721f2-5cff-40c5-9412-e1adf1288553",
        "id": "qWgV8Wl1geZ5",
        "jupyter": {
          "outputs_hidden": false
        },
        "execution": {
          "iopub.status.busy": "2022-07-27T02:01:04.008332Z",
          "iopub.execute_input": "2022-07-27T02:01:04.009086Z",
          "iopub.status.idle": "2022-07-27T02:01:04.045782Z",
          "shell.execute_reply.started": "2022-07-27T02:01:04.009038Z",
          "shell.execute_reply": "2022-07-27T02:01:04.044092Z"
        },
        "trusted": true
      },
      "execution_count": null,
      "outputs": []
    },
    {
      "cell_type": "code",
      "source": [
        "df_train_fea_store_2.Weekly_Sales.value_counts()"
      ],
      "metadata": {
        "_uuid": "6172f8f1-c74f-4ab4-bcfd-850632c6a99c",
        "_cell_guid": "6c78e977-58a4-488a-ad0c-05c62c2104a9",
        "id": "P3VPhUdqjGjX",
        "jupyter": {
          "outputs_hidden": false
        },
        "execution": {
          "iopub.status.busy": "2022-07-27T02:01:06.320816Z",
          "iopub.execute_input": "2022-07-27T02:01:06.321246Z",
          "iopub.status.idle": "2022-07-27T02:01:06.429432Z",
          "shell.execute_reply.started": "2022-07-27T02:01:06.321212Z",
          "shell.execute_reply": "2022-07-27T02:01:06.428294Z"
        },
        "trusted": true
      },
      "execution_count": null,
      "outputs": []
    },
    {
      "cell_type": "code",
      "source": [
        "df_train_fea_store_2.IsHoliday_x.value_counts()"
      ],
      "metadata": {
        "_uuid": "97caa148-bc7e-4640-8f89-7a7c97f0a5d9",
        "_cell_guid": "9264f2e0-5acf-4165-b07b-d54ebf32475b",
        "id": "vDo9lr6EjIMh",
        "jupyter": {
          "outputs_hidden": false
        },
        "execution": {
          "iopub.status.busy": "2022-07-27T02:01:07.356151Z",
          "iopub.execute_input": "2022-07-27T02:01:07.357128Z",
          "iopub.status.idle": "2022-07-27T02:01:07.367831Z",
          "shell.execute_reply.started": "2022-07-27T02:01:07.357085Z",
          "shell.execute_reply": "2022-07-27T02:01:07.367005Z"
        },
        "trusted": true
      },
      "execution_count": null,
      "outputs": []
    },
    {
      "cell_type": "code",
      "source": [
        "df_train_fea_store_2.IsHoliday_y.value_counts()"
      ],
      "metadata": {
        "_uuid": "19a89187-0779-48b8-b951-127a8f644c62",
        "_cell_guid": "1d6c036a-5b06-4a72-a6d2-115fba6329ed",
        "id": "gzmSO9x1tlDD",
        "jupyter": {
          "outputs_hidden": false
        },
        "execution": {
          "iopub.status.busy": "2022-07-27T02:01:08.571874Z",
          "iopub.execute_input": "2022-07-27T02:01:08.572454Z",
          "iopub.status.idle": "2022-07-27T02:01:08.633925Z",
          "shell.execute_reply.started": "2022-07-27T02:01:08.572418Z",
          "shell.execute_reply": "2022-07-27T02:01:08.632252Z"
        },
        "trusted": true
      },
      "execution_count": null,
      "outputs": []
    },
    {
      "cell_type": "markdown",
      "source": [
        "*Observation:\n",
        "Since IsHoliday_x and IsHoliday_y are duplicates, we drop one amongst them and rename the other as IsHoliday*"
      ],
      "metadata": {
        "_uuid": "8593294a-da7a-42dd-8b02-1b4e158ad26c",
        "_cell_guid": "2765447e-bc29-49cc-8f4a-ced611a4c612",
        "id": "n9Nilkk8trCh",
        "trusted": true
      }
    },
    {
      "cell_type": "code",
      "source": [
        "df_train_fea_store_3=df_train_fea_store_2.drop(\"IsHoliday_y\",axis=1)"
      ],
      "metadata": {
        "_uuid": "b05f7830-fa3e-471c-81ff-c1ecbfcd7502",
        "_cell_guid": "2fed53eb-4efd-4db2-90ac-c2e387af6d5b",
        "id": "HPTJ_9Xktooh",
        "jupyter": {
          "outputs_hidden": false
        },
        "execution": {
          "iopub.status.busy": "2022-07-27T02:01:10.271389Z",
          "iopub.execute_input": "2022-07-27T02:01:10.272044Z",
          "iopub.status.idle": "2022-07-27T02:01:10.306126Z",
          "shell.execute_reply.started": "2022-07-27T02:01:10.272009Z",
          "shell.execute_reply": "2022-07-27T02:01:10.305232Z"
        },
        "trusted": true
      },
      "execution_count": null,
      "outputs": []
    },
    {
      "cell_type": "code",
      "source": [
        "df_train_fea_store_3.rename(columns={\"IsHoliday_x\":\"IsHoliday\"},inplace = True)"
      ],
      "metadata": {
        "_uuid": "71ebbf96-3ddd-4836-8764-029c0bdbc5e7",
        "_cell_guid": "80707a8f-46fd-4578-9823-db5923a74352",
        "id": "R08S7lwRuHDV",
        "jupyter": {
          "outputs_hidden": false
        },
        "execution": {
          "iopub.status.busy": "2022-07-27T02:01:11.026554Z",
          "iopub.execute_input": "2022-07-27T02:01:11.027712Z",
          "iopub.status.idle": "2022-07-27T02:01:11.033257Z",
          "shell.execute_reply.started": "2022-07-27T02:01:11.027676Z",
          "shell.execute_reply": "2022-07-27T02:01:11.032261Z"
        },
        "trusted": true
      },
      "execution_count": null,
      "outputs": []
    },
    {
      "cell_type": "code",
      "source": [
        "df_train_fea_store_3.IsHoliday.value_counts()"
      ],
      "metadata": {
        "_uuid": "f6604b79-fe4c-46c2-87f0-5949ad87473c",
        "_cell_guid": "1f752f9c-10d0-4dd8-a10a-a448a058d541",
        "id": "t64qdSOvueWg",
        "jupyter": {
          "outputs_hidden": false
        },
        "execution": {
          "iopub.status.busy": "2022-07-27T02:01:11.665890Z",
          "iopub.execute_input": "2022-07-27T02:01:11.666570Z",
          "iopub.status.idle": "2022-07-27T02:01:11.679420Z",
          "shell.execute_reply.started": "2022-07-27T02:01:11.666532Z",
          "shell.execute_reply": "2022-07-27T02:01:11.678039Z"
        },
        "trusted": true
      },
      "execution_count": null,
      "outputs": []
    },
    {
      "cell_type": "code",
      "source": [
        "df_train_fea_store_3"
      ],
      "metadata": {
        "_uuid": "82e5f710-7aba-47b5-bea1-e5af789b64d0",
        "_cell_guid": "37ad3432-10db-4cd4-9730-e703d5692c25",
        "id": "IsAHqIKuufaG",
        "jupyter": {
          "outputs_hidden": false
        },
        "execution": {
          "iopub.status.busy": "2022-07-27T02:01:12.629301Z",
          "iopub.execute_input": "2022-07-27T02:01:12.629804Z",
          "iopub.status.idle": "2022-07-27T02:01:12.670622Z",
          "shell.execute_reply.started": "2022-07-27T02:01:12.629765Z",
          "shell.execute_reply": "2022-07-27T02:01:12.669624Z"
        },
        "trusted": true
      },
      "execution_count": null,
      "outputs": []
    },
    {
      "cell_type": "markdown",
      "source": [
        "### Encode the categorical dataframe"
      ],
      "metadata": {
        "id": "sHDFzkS5Yeoy"
      }
    },
    {
      "cell_type": "code",
      "source": [
        "#Encode categorical column : IsHoliday\n",
        "\n",
        "\n",
        "df_train_fea_store_3['IsHoliday'] = df_train_fea_store_3['IsHoliday'].apply(lambda x: 1 if x == True else 0)"
      ],
      "metadata": {
        "execution": {
          "iopub.status.busy": "2022-07-27T02:01:19.607651Z",
          "iopub.execute_input": "2022-07-27T02:01:19.608764Z",
          "iopub.status.idle": "2022-07-27T02:01:19.884004Z",
          "shell.execute_reply.started": "2022-07-27T02:01:19.608701Z",
          "shell.execute_reply": "2022-07-27T02:01:19.882633Z"
        },
        "trusted": true,
        "id": "jOvHZI_yYeoy"
      },
      "execution_count": null,
      "outputs": []
    },
    {
      "cell_type": "code",
      "source": [
        "df_train_fea_store_3"
      ],
      "metadata": {
        "execution": {
          "iopub.status.busy": "2022-07-27T02:01:22.052495Z",
          "iopub.execute_input": "2022-07-27T02:01:22.053811Z",
          "iopub.status.idle": "2022-07-27T02:01:22.088109Z",
          "shell.execute_reply.started": "2022-07-27T02:01:22.053752Z",
          "shell.execute_reply": "2022-07-27T02:01:22.086928Z"
        },
        "trusted": true,
        "id": "PF567-p2Yeoz"
      },
      "execution_count": null,
      "outputs": []
    },
    {
      "cell_type": "code",
      "source": [
        "df_train_fea_store_3.dtypes"
      ],
      "metadata": {
        "execution": {
          "iopub.status.busy": "2022-07-27T02:01:23.424406Z",
          "iopub.execute_input": "2022-07-27T02:01:23.424822Z",
          "iopub.status.idle": "2022-07-27T02:01:23.433642Z",
          "shell.execute_reply.started": "2022-07-27T02:01:23.424787Z",
          "shell.execute_reply": "2022-07-27T02:01:23.432421Z"
        },
        "trusted": true,
        "id": "HeRXc9QTYeoz"
      },
      "execution_count": null,
      "outputs": []
    },
    {
      "cell_type": "markdown",
      "source": [
        "*Obsevation:When we check the datatypes, even the feature “Date” is stored in object format!\n",
        "It is hardly useful, we convert it to Datetime format and also add few additional features from it*"
      ],
      "metadata": {
        "id": "xKLSDT2gYeoz"
      }
    },
    {
      "cell_type": "code",
      "source": [
        "#Converting Date features\n",
        "df_train_fea_store_3[\"Date\"]=pd.to_datetime(df_train_fea_store_3.Date)\n",
        "\n",
        "df_train_fea_store_3[\"Day\"]=df_train_fea_store_3.Date.dt.day\n",
        "df_train_fea_store_3[\"Month\"]=df_train_fea_store_3.Date.dt.month\n",
        "df_train_fea_store_3[\"Year\"]=df_train_fea_store_3.Date.dt.year\n",
        "\n",
        "# Changing the Months value from numbers to real values like Jan, Feb to Dec\n",
        "df_train_fea_store_3['Month'] = df_train_fea_store_3['Month'].apply(lambda x: calendar.month_abbr[x])"
      ],
      "metadata": {
        "execution": {
          "iopub.status.busy": "2022-07-27T02:01:25.597219Z",
          "iopub.execute_input": "2022-07-27T02:01:25.597593Z",
          "iopub.status.idle": "2022-07-27T02:01:27.586417Z",
          "shell.execute_reply.started": "2022-07-27T02:01:25.597563Z",
          "shell.execute_reply": "2022-07-27T02:01:27.585039Z"
        },
        "trusted": true,
        "id": "h5-OcjkUYeoz"
      },
      "execution_count": null,
      "outputs": []
    },
    {
      "cell_type": "code",
      "source": [
        "df_train_fea_store_3"
      ],
      "metadata": {
        "execution": {
          "iopub.status.busy": "2022-07-27T02:01:27.588279Z",
          "iopub.execute_input": "2022-07-27T02:01:27.588614Z",
          "iopub.status.idle": "2022-07-27T02:01:27.625630Z",
          "shell.execute_reply.started": "2022-07-27T02:01:27.588584Z",
          "shell.execute_reply": "2022-07-27T02:01:27.624668Z"
        },
        "trusted": true,
        "id": "_eV9P_cAYeoz"
      },
      "execution_count": null,
      "outputs": []
    },
    {
      "cell_type": "markdown",
      "source": [
        "*Observation:\n",
        "Above is the final data frame we decide to work with*"
      ],
      "metadata": {
        "_uuid": "9deb7f93-99f6-4205-aed8-fb57f6594c5a",
        "_cell_guid": "bd8a1411-b91a-4ab0-9128-4bebe28ef830",
        "id": "art3szfhmYBG",
        "trusted": true
      }
    },
    {
      "cell_type": "markdown",
      "source": [
        "# Feature Analysis"
      ],
      "metadata": {
        "_uuid": "b53d0a10-81f9-4136-8b3e-7dd2c854dde1",
        "_cell_guid": "f85b7767-ab96-4fcf-8024-46fa67727977",
        "id": "rTekWD1Bmpdn",
        "trusted": true
      }
    },
    {
      "cell_type": "code",
      "source": [
        "df_train_fea_store_3.columns"
      ],
      "metadata": {
        "_uuid": "1b9c4a5c-641c-4b14-9348-3c9eea22263f",
        "_cell_guid": "a32c22b8-b47d-45a3-9e0c-b3b49c68c94c",
        "id": "kx0wkoidnRH9",
        "jupyter": {
          "outputs_hidden": false
        },
        "execution": {
          "iopub.status.busy": "2022-07-27T02:01:30.472073Z",
          "iopub.execute_input": "2022-07-27T02:01:30.472589Z",
          "iopub.status.idle": "2022-07-27T02:01:30.482102Z",
          "shell.execute_reply.started": "2022-07-27T02:01:30.472541Z",
          "shell.execute_reply": "2022-07-27T02:01:30.480819Z"
        },
        "trusted": true
      },
      "execution_count": null,
      "outputs": []
    },
    {
      "cell_type": "code",
      "source": [
        "numerical_fea=['Store', 'Temperature', 'Fuel_Price', 'MarkDown1', 'MarkDown2',\n",
        "       'MarkDown3', 'MarkDown4', 'MarkDown5', 'CPI', 'Unemployment', 'Dept','Weekly_Sales', 'Size']"
      ],
      "metadata": {
        "_uuid": "60e19746-0b67-4a47-8167-f1d338c3ef71",
        "_cell_guid": "43780840-52b3-4a9d-a2b0-afe82149b3a5",
        "id": "blRcrIDTnTPt",
        "jupyter": {
          "outputs_hidden": false
        },
        "execution": {
          "iopub.status.busy": "2022-07-27T02:01:31.651911Z",
          "iopub.execute_input": "2022-07-27T02:01:31.652410Z",
          "iopub.status.idle": "2022-07-27T02:01:31.659077Z",
          "shell.execute_reply.started": "2022-07-27T02:01:31.652372Z",
          "shell.execute_reply": "2022-07-27T02:01:31.657691Z"
        },
        "trusted": true
      },
      "execution_count": null,
      "outputs": []
    },
    {
      "cell_type": "code",
      "source": [
        "categorical=[\"IsHoliday\",\"Type\"]"
      ],
      "metadata": {
        "_uuid": "837c57da-4222-4057-a99b-cfe5af81270d",
        "_cell_guid": "4495ffa2-f3ac-46bb-b91f-c2254552b5a4",
        "id": "o33V7YdSvHU0",
        "jupyter": {
          "outputs_hidden": false
        },
        "execution": {
          "iopub.status.busy": "2022-07-27T02:01:32.309343Z",
          "iopub.execute_input": "2022-07-27T02:01:32.310008Z",
          "iopub.status.idle": "2022-07-27T02:01:32.316157Z",
          "shell.execute_reply.started": "2022-07-27T02:01:32.309972Z",
          "shell.execute_reply": "2022-07-27T02:01:32.314791Z"
        },
        "trusted": true
      },
      "execution_count": null,
      "outputs": []
    },
    {
      "cell_type": "code",
      "source": [
        "time=[\"Date\"]"
      ],
      "metadata": {
        "_uuid": "88c1966a-5252-4ff0-8041-ac3298b8ba23",
        "_cell_guid": "d7a9ae8f-e7d0-4d04-842e-0cf7ffc79f45",
        "id": "pCV5C2nZvOYK",
        "jupyter": {
          "outputs_hidden": false
        },
        "execution": {
          "iopub.status.busy": "2022-07-27T02:01:32.967393Z",
          "iopub.execute_input": "2022-07-27T02:01:32.968960Z",
          "iopub.status.idle": "2022-07-27T02:01:32.974223Z",
          "shell.execute_reply.started": "2022-07-27T02:01:32.968910Z",
          "shell.execute_reply": "2022-07-27T02:01:32.972922Z"
        },
        "trusted": true
      },
      "execution_count": null,
      "outputs": []
    },
    {
      "cell_type": "code",
      "source": [
        "#Plot bi-variate plots for numerical features\n",
        "\n",
        "df_no_date=df_train_fea_store_3[numerical_fea+categorical]"
      ],
      "metadata": {
        "_uuid": "bec7b234-293f-4361-bf63-7915cdea2e64",
        "_cell_guid": "976c8d0f-3752-43dc-926b-60766ec00037",
        "id": "lMYRCdLsvYh_",
        "jupyter": {
          "outputs_hidden": false
        },
        "execution": {
          "iopub.status.busy": "2022-07-27T02:01:33.927592Z",
          "iopub.execute_input": "2022-07-27T02:01:33.928625Z",
          "iopub.status.idle": "2022-07-27T02:01:33.996071Z",
          "shell.execute_reply.started": "2022-07-27T02:01:33.928582Z",
          "shell.execute_reply": "2022-07-27T02:01:33.994901Z"
        },
        "trusted": true
      },
      "execution_count": null,
      "outputs": []
    },
    {
      "cell_type": "code",
      "source": [
        "df_no_date"
      ],
      "metadata": {
        "_uuid": "d48cb8d9-becd-425f-b74b-63ad00fb9b23",
        "_cell_guid": "05717eab-2b1b-4816-83ab-511b63758994",
        "id": "z0rYwnXpw0ki",
        "jupyter": {
          "outputs_hidden": false
        },
        "execution": {
          "iopub.status.busy": "2022-07-27T02:01:34.668771Z",
          "iopub.execute_input": "2022-07-27T02:01:34.669175Z",
          "iopub.status.idle": "2022-07-27T02:01:34.702502Z",
          "shell.execute_reply.started": "2022-07-27T02:01:34.669143Z",
          "shell.execute_reply": "2022-07-27T02:01:34.701357Z"
        },
        "trusted": true
      },
      "execution_count": null,
      "outputs": []
    },
    {
      "cell_type": "code",
      "source": [
        "df_no_date_sample=df_no_date.sample(frac=0.1)"
      ],
      "metadata": {
        "_uuid": "3ddd1a7c-ab44-4c5e-999f-a7bfc7957c73",
        "_cell_guid": "290401cf-804a-4b7e-9021-6af87e9414d4",
        "id": "iH5MyTUWz8sM",
        "jupyter": {
          "outputs_hidden": false
        },
        "execution": {
          "iopub.status.busy": "2022-07-27T02:01:35.487702Z",
          "iopub.execute_input": "2022-07-27T02:01:35.488096Z",
          "iopub.status.idle": "2022-07-27T02:01:35.525656Z",
          "shell.execute_reply.started": "2022-07-27T02:01:35.488067Z",
          "shell.execute_reply": "2022-07-27T02:01:35.523998Z"
        },
        "trusted": true
      },
      "execution_count": null,
      "outputs": []
    },
    {
      "cell_type": "code",
      "source": [
        "sns.pairplot(df_no_date_sample,hue=\"IsHoliday\")"
      ],
      "metadata": {
        "_uuid": "47ca06a9-8e90-42d7-918a-ce1d3baa3707",
        "_cell_guid": "19f2a34f-28ff-45d6-b5df-04079703f8b4",
        "id": "Ig4H2sicw1ef",
        "execution": {
          "iopub.status.busy": "2022-07-27T02:01:36.302772Z",
          "iopub.execute_input": "2022-07-27T02:01:36.303255Z",
          "iopub.status.idle": "2022-07-27T02:06:20.399547Z",
          "shell.execute_reply.started": "2022-07-27T02:01:36.303219Z",
          "shell.execute_reply": "2022-07-27T02:06:20.398439Z"
        },
        "collapsed": true,
        "jupyter": {
          "outputs_hidden": true
        },
        "trusted": true
      },
      "execution_count": null,
      "outputs": []
    },
    {
      "cell_type": "markdown",
      "source": [
        "### UNIVARIATE FEATURE PLOTS (PDF)"
      ],
      "metadata": {
        "id": "xyv7LBuVYeo1"
      }
    },
    {
      "cell_type": "code",
      "source": [
        "#To plot univariate KDE plots to check CDF of all numerical variables:--\n",
        "\n",
        "for col in numerical_fea:\n",
        "    sns.kdeplot(df_train_fea_store_3[col], shade=True)\n",
        "    plt.show()"
      ],
      "metadata": {
        "_uuid": "ee9ea17c-91c2-4e35-9595-f99a969e30b2",
        "_cell_guid": "f27d0a5d-e1c1-4f4c-a5c2-48612ffff512",
        "id": "Gp8-xKaUzYVH",
        "jupyter": {
          "outputs_hidden": false
        },
        "execution": {
          "iopub.status.busy": "2022-07-27T02:06:20.401588Z",
          "iopub.execute_input": "2022-07-27T02:06:20.401950Z",
          "iopub.status.idle": "2022-07-27T02:06:42.923980Z",
          "shell.execute_reply.started": "2022-07-27T02:06:20.401916Z",
          "shell.execute_reply": "2022-07-27T02:06:42.922650Z"
        },
        "trusted": true
      },
      "execution_count": null,
      "outputs": []
    },
    {
      "cell_type": "markdown",
      "source": [
        "> Observation:\n",
        "> From above univariate plots, it is clear that Weekly_Sales is extremely right skewed.\n",
        "> All Markdowns are extremely right skewed as well.\n",
        "> We may take this as a hint that mark-downs and weekly sales are closely related."
      ],
      "metadata": {
        "id": "4vshZoInYeo1"
      }
    },
    {
      "cell_type": "markdown",
      "source": [
        "### NUMBER OF OBSERVATIONS FOR EACH STORE"
      ],
      "metadata": {
        "id": "6BCSIYqhYeo1"
      }
    },
    {
      "cell_type": "code",
      "source": [
        "from matplotlib import rcParams\n",
        "\n",
        "#To check number of rows in each group\n",
        "result=df_train_fea_store_3.groupby([\"Store\"]).size()\n",
        "\n",
        "\n",
        "rcParams['figure.figsize'] = 15,8\n",
        "\n",
        "# plot the result\n",
        "sns.barplot(x = result.index, y = result.values)"
      ],
      "metadata": {
        "execution": {
          "iopub.status.busy": "2022-07-27T02:06:42.925994Z",
          "iopub.execute_input": "2022-07-27T02:06:42.926444Z",
          "iopub.status.idle": "2022-07-27T02:06:43.490697Z",
          "shell.execute_reply.started": "2022-07-27T02:06:42.926399Z",
          "shell.execute_reply": "2022-07-27T02:06:43.489396Z"
        },
        "trusted": true,
        "id": "CCj2af6wYeo1"
      },
      "execution_count": null,
      "outputs": []
    },
    {
      "cell_type": "markdown",
      "source": [
        "> Observation:\n",
        "Each \"Store\" has observations in the range of 6000 to 10000"
      ],
      "metadata": {
        "id": "ZnD-1BjPYeo1"
      }
    },
    {
      "cell_type": "markdown",
      "source": [
        "### BI-VARIATE PLOTS OF FEATURES"
      ],
      "metadata": {
        "id": "SintxKcKYeo1"
      }
    },
    {
      "cell_type": "code",
      "source": [
        "#To plot Bi-variate plots of numerical features w.r.t \"Weekly_Sales\"\n",
        "\n",
        "for col in numerical_fea:\n",
        "    sns.lineplot(x=df_train_fea_store_3[col],y=df_train_fea_store_3[\"Weekly_Sales\"])\n",
        "    plt.show()"
      ],
      "metadata": {
        "execution": {
          "iopub.status.busy": "2022-07-26T02:36:02.281246Z",
          "iopub.execute_input": "2022-07-26T02:36:02.281593Z",
          "iopub.status.idle": "2022-07-26T02:41:15.715892Z",
          "shell.execute_reply.started": "2022-07-26T02:36:02.281566Z",
          "shell.execute_reply": "2022-07-26T02:41:15.714008Z"
        },
        "collapsed": true,
        "jupyter": {
          "outputs_hidden": true
        },
        "trusted": true,
        "id": "l26DUl1zYeo2"
      },
      "execution_count": null,
      "outputs": []
    },
    {
      "cell_type": "markdown",
      "source": [
        "*Observation: Plots are very noisy, we may get misleading conclusions.At this stage we can conclude that features like \"CPI\", \"Size\" and \"Markdowns\" are few features with strong correlation with our output variable \"Weekly_Sales\".* \n",
        "*Downside is we have not regarded time constraint here which most likely plays a very important role.*\n"
      ],
      "metadata": {
        "id": "E0G2f1g7Yeo2"
      }
    },
    {
      "cell_type": "markdown",
      "source": [
        "### BI-VARIATE PLOTS BY GROUPING UNIQUE STORES"
      ],
      "metadata": {
        "id": "0Or164IgYeo2"
      }
    },
    {
      "cell_type": "code",
      "source": [
        "#Creating group of stores\n",
        "\n",
        "group_store=df_train_fea_store_3.groupby(\"Store\")"
      ],
      "metadata": {
        "execution": {
          "iopub.status.busy": "2022-07-26T02:41:20.772180Z",
          "iopub.execute_input": "2022-07-26T02:41:20.772581Z",
          "iopub.status.idle": "2022-07-26T02:41:20.778231Z",
          "shell.execute_reply.started": "2022-07-26T02:41:20.772546Z",
          "shell.execute_reply": "2022-07-26T02:41:20.777145Z"
        },
        "trusted": true,
        "id": "JwTKtTO5Yeo2"
      },
      "execution_count": null,
      "outputs": []
    },
    {
      "cell_type": "code",
      "source": [
        "group_store.groups.keys()"
      ],
      "metadata": {
        "execution": {
          "iopub.status.busy": "2022-07-26T02:41:29.341190Z",
          "iopub.execute_input": "2022-07-26T02:41:29.341553Z",
          "iopub.status.idle": "2022-07-26T02:41:29.361609Z",
          "shell.execute_reply.started": "2022-07-26T02:41:29.341524Z",
          "shell.execute_reply": "2022-07-26T02:41:29.360452Z"
        },
        "trusted": true,
        "id": "pXqMQXbQYeo2"
      },
      "execution_count": null,
      "outputs": []
    },
    {
      "cell_type": "code",
      "source": [
        "# Fetch a random group\n",
        "\n",
        "store1=np.random.randint(1,46)\n",
        "store2=np.random.randint(1,46)\n",
        "\n",
        "df1=group_store.get_group(store1)\n",
        "df2=group_store.get_group(store2)\n",
        "\n",
        "\n",
        "print(\"Dataframe of Store number \",store1,\" is below\")\n",
        "print(df1.head(2))\n",
        "\n",
        "print(\"Dataframe of Store number \",store2,\" is below\")\n",
        "print(df2.head(2))"
      ],
      "metadata": {
        "execution": {
          "iopub.status.busy": "2022-07-26T02:41:30.597722Z",
          "iopub.execute_input": "2022-07-26T02:41:30.598111Z",
          "iopub.status.idle": "2022-07-26T02:41:30.635667Z",
          "shell.execute_reply.started": "2022-07-26T02:41:30.598080Z",
          "shell.execute_reply": "2022-07-26T02:41:30.634364Z"
        },
        "trusted": true,
        "id": "QOjo8WvwYeo2"
      },
      "execution_count": null,
      "outputs": []
    },
    {
      "cell_type": "code",
      "source": [
        "#To plot Bi-variate plots of numerical features w.r.t \"Weekly_Sales\" on random store chosen\n",
        "\n",
        "\n",
        "df1['Moving_Average'] = df1[\"Weekly_Sales\"].rolling(window=3).mean()\n",
        "df2['Moving_Average'] = df2[\"Weekly_Sales\"].rolling(window=3).mean()\n",
        "\n",
        "for col in numerical_fea:\n",
        "    \n",
        "    rcParams['figure.figsize'] = 15,8 # To fix picture size\n",
        "    \n",
        "    fig, axes = plt.subplots(1, 2)\n",
        "    fig.suptitle(f\"Weekly_Sales VS {col}\")\n",
        "\n",
        "\n",
        "    sns.lineplot(ax=axes[0],x=df1[col],y=df1[\"Weekly_Sales\"])\n",
        "    sns.lineplot(ax=axes[0],x=df1[col],y=df1[\"Moving_Average\"])\n",
        "    axes[0].set_title(\"STORE \"+str(store1))\n",
        "\n",
        "\n",
        "    sns.lineplot(ax=axes[1],x=df2[col],y=df2[\"Weekly_Sales\"])\n",
        "    sns.lineplot(ax=axes[1],x=df2[col],y=df2[\"Moving_Average\"])\n",
        "    axes[1].set_title(\"STORE \"+str(store2))\n",
        "    plt.show()"
      ],
      "metadata": {
        "execution": {
          "iopub.status.busy": "2022-07-26T02:41:32.547618Z",
          "iopub.execute_input": "2022-07-26T02:41:32.548017Z",
          "iopub.status.idle": "2022-07-26T02:43:22.194459Z",
          "shell.execute_reply.started": "2022-07-26T02:41:32.547985Z",
          "shell.execute_reply": "2022-07-26T02:43:22.193308Z"
        },
        "trusted": true,
        "id": "K73Kiy_OYeo2"
      },
      "execution_count": null,
      "outputs": []
    },
    {
      "cell_type": "markdown",
      "source": [
        "*Observation:\n",
        "The trend remains for \"Weekly_Sales\" VS other numerical features for various store numbers. See side by side comparison above*"
      ],
      "metadata": {
        "id": "eBCNrRIzYeo3"
      }
    },
    {
      "cell_type": "code",
      "source": [
        ""
      ],
      "metadata": {
        "id": "yMEpyWHeYeo3"
      },
      "execution_count": null,
      "outputs": []
    },
    {
      "cell_type": "markdown",
      "source": [
        "### Describe the dataframe"
      ],
      "metadata": {
        "id": "iGmnWnAhYeo3"
      }
    },
    {
      "cell_type": "code",
      "source": [
        "#add a 'week' column to the dataset for further analysis\n",
        "df_train_fea_store_3['Week'] = df_train_fea_store_3.Date.dt.isocalendar().week "
      ],
      "metadata": {
        "execution": {
          "iopub.status.busy": "2022-07-26T03:24:33.939053Z",
          "iopub.execute_input": "2022-07-26T03:24:33.939444Z",
          "iopub.status.idle": "2022-07-26T03:24:34.120941Z",
          "shell.execute_reply.started": "2022-07-26T03:24:33.939412Z",
          "shell.execute_reply": "2022-07-26T03:24:34.119623Z"
        },
        "trusted": true,
        "id": "y5IIkkybYeo3"
      },
      "execution_count": null,
      "outputs": []
    },
    {
      "cell_type": "code",
      "source": [
        "df_train_fea_store_3.describe().T.style.bar(subset=['mean'], color='#205ff2')\\\n",
        "                            .background_gradient(subset=['std'], cmap='Reds')\\\n",
        "                            .background_gradient(subset=['50%'], cmap='coolwarm')"
      ],
      "metadata": {
        "execution": {
          "iopub.status.busy": "2022-07-26T03:24:36.352343Z",
          "iopub.execute_input": "2022-07-26T03:24:36.352760Z",
          "iopub.status.idle": "2022-07-26T03:24:37.127665Z",
          "shell.execute_reply.started": "2022-07-26T03:24:36.352722Z",
          "shell.execute_reply": "2022-07-26T03:24:37.126760Z"
        },
        "trusted": true,
        "id": "fd8uhCCzYeo3"
      },
      "execution_count": null,
      "outputs": []
    },
    {
      "cell_type": "code",
      "source": [
        "df_train_fea_store_3.columns"
      ],
      "metadata": {
        "execution": {
          "iopub.status.busy": "2022-07-26T03:24:44.952367Z",
          "iopub.execute_input": "2022-07-26T03:24:44.952748Z",
          "iopub.status.idle": "2022-07-26T03:24:44.961267Z",
          "shell.execute_reply.started": "2022-07-26T03:24:44.952711Z",
          "shell.execute_reply": "2022-07-26T03:24:44.959637Z"
        },
        "trusted": true,
        "id": "sXWzK0u9Yeo3"
      },
      "execution_count": null,
      "outputs": []
    },
    {
      "cell_type": "markdown",
      "source": [
        "### WEEKLY_SALES VS WEEKS/DATE"
      ],
      "metadata": {
        "id": "tVW0v5UIYeo4"
      }
    },
    {
      "cell_type": "code",
      "source": [
        "import plotly.express as px\n",
        "\n",
        "fig = px.line( data_frame = df_train_fea_store_3, x = df_train_fea_store_3.index, y = 'Weekly_Sales', labels = {'Weekly_Sales' : 'Weekly Sales', 'x' : 'Weeks' }, title = 'Sales over weeks')\n",
        "fig.update_traces(line_color='deeppink', line_width=3)\n"
      ],
      "metadata": {
        "execution": {
          "iopub.status.busy": "2022-07-26T03:24:49.351914Z",
          "iopub.execute_input": "2022-07-26T03:24:49.352790Z",
          "iopub.status.idle": "2022-07-26T03:24:52.166474Z",
          "shell.execute_reply.started": "2022-07-26T03:24:49.352745Z",
          "shell.execute_reply": "2022-07-26T03:24:52.165449Z"
        },
        "trusted": true,
        "id": "dwcqWSJvYeo4"
      },
      "execution_count": null,
      "outputs": []
    },
    {
      "cell_type": "markdown",
      "source": [
        "*Observation: As seen above Weekly_Sales VS Week/Date is too noisy, due to alot of data points.\n",
        "We will group them by Week and then plot*"
      ],
      "metadata": {
        "id": "Lp7uu_irYeo4"
      }
    },
    {
      "cell_type": "code",
      "source": [
        "df_weeks = df_train_fea_store_3.groupby('Week').sum()\n",
        "\n",
        "import plotly.express as px\n",
        "\n",
        "fig = px.line( data_frame = df_weeks, x = df_weeks.index, y = 'Weekly_Sales', labels = {'Weekly_Sales' : 'Weekly Sales', 'x' : 'Weeks' }, title = 'Sales over weeks')\n",
        "fig.update_traces(line_color='deeppink', line_width=3)\n"
      ],
      "metadata": {
        "execution": {
          "iopub.status.busy": "2022-07-26T03:24:54.342063Z",
          "iopub.execute_input": "2022-07-26T03:24:54.343166Z",
          "iopub.status.idle": "2022-07-26T03:24:54.480969Z",
          "shell.execute_reply.started": "2022-07-26T03:24:54.343124Z",
          "shell.execute_reply": "2022-07-26T03:24:54.479580Z"
        },
        "trusted": true,
        "id": "8uCKRgUAYeo4"
      },
      "execution_count": null,
      "outputs": []
    },
    {
      "cell_type": "markdown",
      "source": [
        "*Observation: Some weeks have charecteristic high sales! Week number indeed would benifit us.*\n",
        "*Grouping by Week gives a very clean plot! Much lesser noise.*"
      ],
      "metadata": {
        "id": "rzm7Diz0Yeo4"
      }
    },
    {
      "cell_type": "markdown",
      "source": [
        "### WEEKLY_SALES UNIVARIATE DISTRIBUTION"
      ],
      "metadata": {
        "id": "e0rx1-owYeo4"
      }
    },
    {
      "cell_type": "markdown",
      "source": [
        "###### SIMPLE KDE PLOT(WITHOUT GROUPING BY WEEKS)"
      ],
      "metadata": {
        "id": "TKoENQBxYeo5"
      }
    },
    {
      "cell_type": "code",
      "source": [
        "plt.figure(figsize=(10, 6))\n",
        "sns.kdeplot(df_train_fea_store_3[\"Weekly_Sales\"], shade=True)\n",
        "plt.show()"
      ],
      "metadata": {
        "execution": {
          "iopub.status.busy": "2022-07-26T03:25:02.815575Z",
          "iopub.execute_input": "2022-07-26T03:25:02.816452Z",
          "iopub.status.idle": "2022-07-26T03:25:04.538798Z",
          "shell.execute_reply.started": "2022-07-26T03:25:02.816400Z",
          "shell.execute_reply": "2022-07-26T03:25:04.537626Z"
        },
        "trusted": true,
        "id": "kpMQDCgMYeo5"
      },
      "execution_count": null,
      "outputs": []
    },
    {
      "cell_type": "markdown",
      "source": [
        "###### SIMPLE KDE PLOT(GROUPING BY WEEKS)"
      ],
      "metadata": {
        "id": "e-RyMfUBYeo5"
      }
    },
    {
      "cell_type": "code",
      "source": [
        "plt.figure(figsize=(10, 6))\n",
        "sns.kdeplot(df_weeks[\"Weekly_Sales\"], shade=True)\n",
        "plt.show()"
      ],
      "metadata": {
        "execution": {
          "iopub.status.busy": "2022-07-26T03:25:06.941794Z",
          "iopub.execute_input": "2022-07-26T03:25:06.942874Z",
          "iopub.status.idle": "2022-07-26T03:25:07.187776Z",
          "shell.execute_reply.started": "2022-07-26T03:25:06.942817Z",
          "shell.execute_reply": "2022-07-26T03:25:07.186622Z"
        },
        "trusted": true,
        "id": "A12IEe1dYeo5"
      },
      "execution_count": null,
      "outputs": []
    },
    {
      "cell_type": "markdown",
      "source": [
        "###### HISTPLOT BY SCALING DOWN WEEKLY SALES"
      ],
      "metadata": {
        "id": "dlu4cci6Yeo5"
      }
    },
    {
      "cell_type": "markdown",
      "source": [
        "# RUN FROM BELOW!"
      ],
      "metadata": {
        "id": "Qnx8k-vRYeo5"
      }
    },
    {
      "cell_type": "code",
      "source": [
        "data_copy = pd.DataFrame(columns=[\"Weekly_Sales\"])\n",
        "\n",
        "plt.figure(figsize=(10, 6))\n",
        "data_copy[\"Weekly_Sales\"]=df_train_fea_store_3.Weekly_Sales/10000\n",
        "\n",
        "sns.histplot(data_copy.Weekly_Sales, kde=False, bins=30, color = 'tomato')\n",
        "plt.title('Weekly Sales Function Distribution')\n",
        "plt.show()"
      ],
      "metadata": {
        "execution": {
          "iopub.status.busy": "2022-07-27T01:59:54.426101Z",
          "iopub.execute_input": "2022-07-27T01:59:54.426671Z",
          "iopub.status.idle": "2022-07-27T01:59:54.454066Z",
          "shell.execute_reply.started": "2022-07-27T01:59:54.426631Z",
          "shell.execute_reply": "2022-07-27T01:59:54.452504Z"
        },
        "trusted": true,
        "id": "npI2d240Yeo5"
      },
      "execution_count": null,
      "outputs": []
    },
    {
      "cell_type": "code",
      "source": [
        "df_train_fea_store_3.Weekly_Sales"
      ],
      "metadata": {
        "execution": {
          "iopub.status.busy": "2022-07-26T03:32:39.639540Z",
          "iopub.execute_input": "2022-07-26T03:32:39.639958Z",
          "iopub.status.idle": "2022-07-26T03:32:39.649928Z",
          "shell.execute_reply.started": "2022-07-26T03:32:39.639915Z",
          "shell.execute_reply": "2022-07-26T03:32:39.648758Z"
        },
        "trusted": true,
        "id": "_HUTJak2Yeo5"
      },
      "execution_count": null,
      "outputs": []
    },
    {
      "cell_type": "code",
      "source": [
        "data_1.Weekly_Sales.min()"
      ],
      "metadata": {
        "execution": {
          "iopub.status.busy": "2022-07-26T03:33:33.009321Z",
          "iopub.execute_input": "2022-07-26T03:33:33.009900Z",
          "iopub.status.idle": "2022-07-26T03:33:33.020548Z",
          "shell.execute_reply.started": "2022-07-26T03:33:33.009854Z",
          "shell.execute_reply": "2022-07-26T03:33:33.019395Z"
        },
        "trusted": true,
        "id": "iPV-O8XQYeo6"
      },
      "execution_count": null,
      "outputs": []
    },
    {
      "cell_type": "code",
      "source": [
        "df_train_fea_store_3"
      ],
      "metadata": {
        "execution": {
          "iopub.status.busy": "2022-07-21T02:37:03.028624Z",
          "iopub.execute_input": "2022-07-21T02:37:03.028997Z",
          "iopub.status.idle": "2022-07-21T02:37:03.058465Z",
          "shell.execute_reply.started": "2022-07-21T02:37:03.028967Z",
          "shell.execute_reply": "2022-07-21T02:37:03.057154Z"
        },
        "trusted": true,
        "id": "lHgRBNWUYeo6"
      },
      "execution_count": null,
      "outputs": []
    },
    {
      "cell_type": "code",
      "source": [
        "# col='Temperature'\n",
        "\n",
        "# df['mean'+'_'+col] = (df_train_fea_store_3.groupby('Store')[col].rolling(window=3).mean().reset_index(level=0, drop=True))\n",
        "# df['mean'+'_'+\"Weekly_Sales\"] = (df_train_fea_store_3.groupby('Store')[\"Weekly_Sales\"].rolling(window=3).mean().reset_index(level=0, drop=True))"
      ],
      "metadata": {
        "execution": {
          "iopub.status.busy": "2022-07-21T02:36:48.159209Z",
          "iopub.status.idle": "2022-07-21T02:36:48.159909Z",
          "shell.execute_reply.started": "2022-07-21T02:36:48.159665Z",
          "shell.execute_reply": "2022-07-21T02:36:48.159689Z"
        },
        "trusted": true,
        "id": "Cbi-FP4DYeo6"
      },
      "execution_count": null,
      "outputs": []
    },
    {
      "cell_type": "code",
      "source": [
        "col='Temperature'\n",
        "\n",
        "df['mean'+'_'+col] = df_train_fea_store_3[col].rolling(window=10).mean()\n",
        "# df['mean'+'_'+\"Weekly_Sales\"] = (df_train_fea_store_3.groupby('Store')[\"Weekly_Sales\"].rolling(window=3).mean().reset_index(level=0, drop=True))"
      ],
      "metadata": {
        "execution": {
          "iopub.status.busy": "2022-07-21T02:50:11.879607Z",
          "iopub.execute_input": "2022-07-21T02:50:11.879999Z",
          "iopub.status.idle": "2022-07-21T02:50:11.892564Z",
          "shell.execute_reply.started": "2022-07-21T02:50:11.879967Z",
          "shell.execute_reply": "2022-07-21T02:50:11.891394Z"
        },
        "trusted": true,
        "id": "-uj91PkrYeo6"
      },
      "execution_count": null,
      "outputs": []
    },
    {
      "cell_type": "code",
      "source": [
        "sns.lineplot(x=df[\"mean_Temperature\"],y=df[\"Weekly_Sales\"])\n",
        "\n",
        "plt.show()"
      ],
      "metadata": {
        "execution": {
          "iopub.status.busy": "2022-07-21T02:50:15.105269Z",
          "iopub.execute_input": "2022-07-21T02:50:15.106337Z",
          "iopub.status.idle": "2022-07-21T02:52:01.541024Z",
          "shell.execute_reply.started": "2022-07-21T02:50:15.106290Z",
          "shell.execute_reply": "2022-07-21T02:52:01.539726Z"
        },
        "trusted": true,
        "id": "Iu5lATp7Yeo6"
      },
      "execution_count": null,
      "outputs": []
    },
    {
      "cell_type": "code",
      "source": [
        "df.fillna(0)"
      ],
      "metadata": {
        "execution": {
          "iopub.status.busy": "2022-07-21T02:36:48.163620Z",
          "iopub.status.idle": "2022-07-21T02:36:48.164086Z",
          "shell.execute_reply.started": "2022-07-21T02:36:48.163841Z",
          "shell.execute_reply": "2022-07-21T02:36:48.163862Z"
        },
        "trusted": true,
        "id": "s6AcYjtZYeo6"
      },
      "execution_count": null,
      "outputs": []
    },
    {
      "cell_type": "code",
      "source": [
        ""
      ],
      "metadata": {
        "id": "JrV6ZuIcYeo7"
      },
      "execution_count": null,
      "outputs": []
    },
    {
      "cell_type": "code",
      "source": [
        "df_train_fea_store_3"
      ],
      "metadata": {
        "execution": {
          "iopub.status.busy": "2022-07-21T02:36:48.165494Z",
          "iopub.status.idle": "2022-07-21T02:36:48.165968Z",
          "shell.execute_reply.started": "2022-07-21T02:36:48.165729Z",
          "shell.execute_reply": "2022-07-21T02:36:48.165751Z"
        },
        "trusted": true,
        "id": "JoVc19_QYeo7"
      },
      "execution_count": null,
      "outputs": []
    },
    {
      "cell_type": "code",
      "source": [
        "numerical_fea"
      ],
      "metadata": {
        "execution": {
          "iopub.status.busy": "2022-07-21T02:36:48.167619Z",
          "iopub.status.idle": "2022-07-21T02:36:48.168095Z",
          "shell.execute_reply.started": "2022-07-21T02:36:48.167840Z",
          "shell.execute_reply": "2022-07-21T02:36:48.167862Z"
        },
        "trusted": true,
        "id": "YgP1KKnFYeo7"
      },
      "execution_count": null,
      "outputs": []
    },
    {
      "cell_type": "code",
      "source": [
        "df_train_fea_store_3[\"Weekly_Sales\"]"
      ],
      "metadata": {
        "execution": {
          "iopub.status.busy": "2022-07-21T02:36:48.169819Z",
          "iopub.status.idle": "2022-07-21T02:36:48.170311Z",
          "shell.execute_reply.started": "2022-07-21T02:36:48.170046Z",
          "shell.execute_reply": "2022-07-21T02:36:48.170069Z"
        },
        "trusted": true,
        "id": "rjo4LqKoYeo7"
      },
      "execution_count": null,
      "outputs": []
    },
    {
      "cell_type": "code",
      "source": [
        ""
      ],
      "metadata": {
        "id": "NWEU5_a1Yeo7"
      },
      "execution_count": null,
      "outputs": []
    }
  ]
}